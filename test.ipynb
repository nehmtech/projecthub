{
 "cells": [
  {
   "cell_type": "code",
   "execution_count": null,
   "metadata": {},
   "outputs": [
    {
     "data": {
      "text/plain": [
       "20"
      ]
     },
     "execution_count": 2,
     "metadata": {},
     "output_type": "execute_result"
    }
   ],
   "source": [
    "from dotenv import load_dotenv\n",
    "from mathutils.mathutils import addition\n",
    "import os\n",
    "\n",
    "# Load environment variables from the .env file (if present)\n",
    "load_dotenv()\n",
    "\n",
    "SECRET_KEY = os.getenv('SECRET_KEY')\n",
    "DATABASE_URL = os.getenv('DATABASE_URL')\n",
    "\n",
    "\n",
    "\n",
    "addition(10, 10)"
   ]
  },
  {
   "cell_type": "code",
   "execution_count": 3,
   "metadata": {},
   "outputs": [
    {
     "name": "stdout",
     "output_type": "stream",
     "text": [
      "121232iuyquywyty6652\n",
      "jkhshwgjhjghassn n\n"
     ]
    }
   ],
   "source": [
    "print(SECRET_KEY)\n",
    "print(DATABASE_URL)"
   ]
  }
 ],
 "metadata": {
  "kernelspec": {
   "display_name": "base",
   "language": "python",
   "name": "python3"
  },
  "language_info": {
   "codemirror_mode": {
    "name": "ipython",
    "version": 3
   },
   "file_extension": ".py",
   "mimetype": "text/x-python",
   "name": "python",
   "nbconvert_exporter": "python",
   "pygments_lexer": "ipython3",
   "version": "3.12.7"
  }
 },
 "nbformat": 4,
 "nbformat_minor": 2
}
